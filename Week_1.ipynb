{
  "nbformat": 4,
  "nbformat_minor": 0,
  "metadata": {
    "colab": {
      "provenance": []
    },
    "kernelspec": {
      "name": "python3",
      "display_name": "Python 3"
    },
    "language_info": {
      "name": "python"
    }
  },
  "cells": [
    {
      "cell_type": "code",
      "execution_count": 1,
      "metadata": {
        "colab": {
          "base_uri": "https://localhost:8080/"
        },
        "id": "HTsogTYWq3Tv",
        "outputId": "da65d2f2-1f3a-4d51-8121-49b9695b9915"
      },
      "outputs": [
        {
          "output_type": "stream",
          "name": "stdout",
          "text": [
            "Collecting pymysql\n",
            "  Downloading PyMySQL-1.1.0-py3-none-any.whl (44 kB)\n",
            "\u001b[?25l     \u001b[90m━━━━━━━━━━━━━━━━━━━━━━━━━━━━━━━━━━━━━━━━\u001b[0m \u001b[32m0.0/44.8 kB\u001b[0m \u001b[31m?\u001b[0m eta \u001b[36m-:--:--\u001b[0m\r\u001b[2K     \u001b[90m━━━━━━━━━━━━━━━━━━━━━━━━━━━━━━━━━━━━━━━━\u001b[0m \u001b[32m44.8/44.8 kB\u001b[0m \u001b[31m2.2 MB/s\u001b[0m eta \u001b[36m0:00:00\u001b[0m\n",
            "\u001b[?25hInstalling collected packages: pymysql\n",
            "Successfully installed pymysql-1.1.0\n"
          ]
        }
      ],
      "source": [
        "!pip install pymysql;"
      ]
    },
    {
      "cell_type": "code",
      "source": [
        "%load_ext sql"
      ],
      "metadata": {
        "id": "6vi77LjnrE-J"
      },
      "execution_count": 2,
      "outputs": []
    },
    {
      "cell_type": "code",
      "source": [
        "%%sql sqlite:///Somalia_db;"
      ],
      "metadata": {
        "id": "hFpe-eoKrTK5"
      },
      "execution_count": 4,
      "outputs": []
    },
    {
      "cell_type": "markdown",
      "source": [
        "Creating Tables for the Somalia Database"
      ],
      "metadata": {
        "id": "Ph2K4sT05p0G"
      }
    },
    {
      "cell_type": "code",
      "source": [
        "%%sql CREATE TABLE beneficiary_partner_data(\n",
        "    partner_id INT NOT NULL PRIMARY KEY,\n",
        "    partner VARCHAR(30) NOT NULL,\n",
        "    village VARCHAR(30) NOT NULL,\n",
        "    beneficiaries INT,\n",
        "    beneficiary_type VARCHAR(30)\n",
        ");"
      ],
      "metadata": {
        "colab": {
          "base_uri": "https://localhost:8080/"
        },
        "id": "J5DZKTumsSvQ",
        "outputId": "12042755-b2d9-4419-bae5-3bac008410f6"
      },
      "execution_count": 6,
      "outputs": [
        {
          "output_type": "stream",
          "name": "stdout",
          "text": [
            " * sqlite:///Somalia_db;\n",
            "Done.\n"
          ]
        },
        {
          "output_type": "execute_result",
          "data": {
            "text/plain": [
              "[]"
            ]
          },
          "metadata": {},
          "execution_count": 6
        }
      ]
    },
    {
      "cell_type": "code",
      "source": [
        "%%sql CREATE TAble village_locations (\n",
        "    village_id INT NOT NULL PRIMARY KEY,\n",
        "    village VARCHAR(30) NOT NULL,\n",
        "    latitude VARHAR(30),\n",
        "    longitude VARCHAR(30),\n",
        "    total_population INT\n",
        ");"
      ],
      "metadata": {
        "colab": {
          "base_uri": "https://localhost:8080/"
        },
        "id": "W3LDA55ethjL",
        "outputId": "e30a5832-05bf-4576-9f5d-1a95add44e12"
      },
      "execution_count": 5,
      "outputs": [
        {
          "output_type": "stream",
          "name": "stdout",
          "text": [
            " * sqlite:///Somalia_db;\n",
            "Done.\n"
          ]
        },
        {
          "output_type": "execute_result",
          "data": {
            "text/plain": [
              "[]"
            ]
          },
          "metadata": {},
          "execution_count": 5
        }
      ]
    },
    {
      "cell_type": "code",
      "source": [
        "%%sql CREATE TABLE jurisdition_hierarchy(\n",
        "jurisdition_id INT NOT NULL PRIMARY KEY,\n",
        "village VARCHAR(30),\n",
        "location VARCHAR(30),\n",
        "name VARCHAR(30)\n",
        ");"
      ],
      "metadata": {
        "colab": {
          "base_uri": "https://localhost:8080/"
        },
        "id": "Qm7bI8LAvv1e",
        "outputId": "ef48c1f7-eb71-457e-f883-273061c1a3e4"
      },
      "execution_count": 9,
      "outputs": [
        {
          "output_type": "stream",
          "name": "stdout",
          "text": [
            " * sqlite:///Somalia_db;\n",
            "Done.\n"
          ]
        },
        {
          "output_type": "execute_result",
          "data": {
            "text/plain": [
              "[]"
            ]
          },
          "metadata": {},
          "execution_count": 9
        }
      ]
    },
    {
      "cell_type": "markdown",
      "source": [
        "Inserting Values in the Created Tables"
      ],
      "metadata": {
        "id": "G4sGptvK5xcU"
      }
    },
    {
      "cell_type": "code",
      "source": [
        "%%sql INSERT INTO beneficiary_partner_data(\n",
        "    partner_id, partner, village, beneficiaries, beneficiary_type\n",
        ")VALUES\n",
        "(1,'IRC','Balcad','1450','Individuals'),(2,'NRC','Balad','50','Households'),\n",
        "(3,'SCI','Balcad','1123','Individuals'),(4,'IMC','Balcad','1245','Individuals'),\n",
        "(5,'SCI','Mareeray','5200','Individuals'),(6,'IMC','Mareeray','70','Households'),\n",
        "(7,'IRC','Mareeray','2100','Individuals'),(8,'CESVI','Mareeray','1800','Individuals'),\n",
        "(9,'SCI','Kulmis','1340','Individuals'),(10,'IMC','Kulmis','55','Household'),\n",
        "(11,'SCI','Kulmis','4500','Individuals'),(12,'IMC','Kulmis','1670','Individuals'),\n",
        "(13,'IMC','Sabuum','1340','Individuals'),(14,'IRC','Sabuun','66','Households'),\n",
        "(15,'CESVI','Sabuun','4090','Individuals'),(16,'SCI','Sabuun','2930','Individuals'),\n",
        "(17,'IMC','Bayaxaw','2800','Individuals'),(18,'IRC','Bayaxaw','2100','Individuals'),\n",
        "(19,'CESVI','Bayaxaw','45','Households'),(20,'SCI','Bayaxaw','1700','Individuals'),\n",
        "(21,'SCI','Bayaxawo','5900','Individuals'),(22,'IMC','Bayaxawo','40','Households'),\n",
        "(23,'IRC','Bayaxawo','1500','Individuals'),(24,'CESVI','Bayaxawo','1260','Individuals'),\n",
        "(25,'CEVI','Dharkenley','7880','Individuals'),(26,'IRC','Dharkenley','34','Households'),\n",
        "(27,'SCI','Bulo-kahin','4300','Individuals'),(28,'IMC','Bulo-kahin','4212','Individuals'),\n",
        "(29,'IRC','Bulo-kihin','3200','Individuals'),(30,'IRC','Hilo Kelyo','5212','Individuals'),\n",
        "(31,'SCI','Hilo Keylo','25','Households'),(33,'IMC','Xiintooy','1667','Individuals'),\n",
        "(34,'IRC','Xiintooy','2667','Individuals'),(35,'CESVI','Dhagax Jebis','2856','Individuals'),\n",
        "(36,'CESVI','Filtare','7519','Individuals'),(37,'CESVI','Howl-Wadaag','6870','Individuals'),\n",
        "(38,'IMC','Howl-Wadaag','32','Households');"
      ],
      "metadata": {
        "id": "99BlA5cjzfje",
        "colab": {
          "base_uri": "https://localhost:8080/"
        },
        "outputId": "cba3ad35-85a0-4063-fbf8-23a24dca340f"
      },
      "execution_count": 8,
      "outputs": [
        {
          "output_type": "stream",
          "name": "stdout",
          "text": [
            " * sqlite:///Somalia_db;\n",
            "37 rows affected.\n"
          ]
        },
        {
          "output_type": "execute_result",
          "data": {
            "text/plain": [
              "[]"
            ]
          },
          "metadata": {},
          "execution_count": 8
        }
      ]
    },
    {
      "cell_type": "code",
      "source": [
        "%%sql INSERT INTO jurisdition_hierarchy (\n",
        "    jurisdition_id, village, location, name\n",
        ")VALUES\n",
        "(1,'Middle Shabelle','Region','NULL'),\n",
        "(2,'Hiraan','Region','NULL'),\n",
        "(3,'Balcad','District','Middle Shabelle'),\n",
        "(4,'Jowhar','District','Middle Shabelle'),\n",
        "(5,'Beledweyn','District','Hiraan'),\n",
        "(6,'Dharkenley','Village','Beledweyn'),\n",
        "(7,'Bulo-Kahin','Village','Beledweyn'),\n",
        "(8,'Hilo Kelyo','Village','Beledweyn'),\n",
        "(9,'Xubow','Village','Beledweyn'),\n",
        "(10,'Xiintooy','Village','Beledweyn'),\n",
        "(11,'Dhagax Jebis','Village','Beledweyn'),\n",
        "(12,'Filtare','Village','Beledweyn'),\n",
        "(13,'Howl-Wadaag','Village','Beledweyn'),\n",
        "(14,'Balcad','Village','Balcad'),\n",
        "(15,'Mareeray','Village','Balcad'),\n",
        "(16,'Kulmis','Village','Balcad'),\n",
        "(17,'Sabuun','Village','Jowhar'),\n",
        "(18,'Bayaxaw','Village','Jowhar');"
      ],
      "metadata": {
        "colab": {
          "base_uri": "https://localhost:8080/"
        },
        "id": "IcRQvl9Gwkgf",
        "outputId": "cc29c854-bd2f-467d-9ac8-9ca8314342f4"
      },
      "execution_count": 12,
      "outputs": [
        {
          "output_type": "stream",
          "name": "stdout",
          "text": [
            " * sqlite:///Somalia_db;\n",
            "18 rows affected.\n"
          ]
        },
        {
          "output_type": "execute_result",
          "data": {
            "text/plain": [
              "[]"
            ]
          },
          "metadata": {},
          "execution_count": 12
        }
      ]
    },
    {
      "cell_type": "code",
      "source": [
        "%%sql INSERT INTO village_locations(\n",
        "    village_id, village,latitude,longitude, total_population\n",
        ") VALUES\n",
        "(1,'Dharkenley','4°47''35.40\"','45°12''28.80\"',12800),\n",
        "(2,'Bulo-Kahin','4°47''57.00\"','45°11''5.70\"',9485),\n",
        "(3,'Hilo Kelyo','4°47''57.00\"','45°12''58.60\"',5212),\n",
        "(4,'Xubow','4°46''46.77\"','45°12''7.57\"',2558),\n",
        "(5,'Xiintooy','4°44''14.40\"','45°13''5.00\"',3850),\n",
        "(6,'Dhagax Jebis','4°44''27.86\"','45°12''42.03\"',3563),\n",
        "(7,'Filtare','4°44''20.43\"','45°12''27.89\"',8000),\n",
        "(8,'Howl-Wadaag','4°43''50.00\"','45°11''58.20\"',7525),\n",
        "(9,'Balcad','2°21.624''','45°23.928''',1500),\n",
        "(10,'Mareeray','2°23.504''','45°25.200''',7500),\n",
        "(11,'Kulmis','2°36.761''','45°30.642''',6058),\n",
        "(12,'Sabuun','2°53.020''','45°32.356''',5483),\n",
        "(13,'Bayaxaw','2°44.768''','45°29.727''',3000),\n",
        "(14,'Bayaxawo','2°44.768''','45°29.926''',7560);"
      ],
      "metadata": {
        "colab": {
          "base_uri": "https://localhost:8080/"
        },
        "id": "EQQisS6K11Ed",
        "outputId": "7200a48a-6071-47e1-cae1-f81ade4add1b"
      },
      "execution_count": 13,
      "outputs": [
        {
          "output_type": "stream",
          "name": "stdout",
          "text": [
            " * sqlite:///Somalia_db;\n",
            "14 rows affected.\n"
          ]
        },
        {
          "output_type": "execute_result",
          "data": {
            "text/plain": [
              "[]"
            ]
          },
          "metadata": {},
          "execution_count": 13
        }
      ]
    },
    {
      "cell_type": "markdown",
      "source": [
        "Display the name of the columns of the tables"
      ],
      "metadata": {
        "id": "O1JM-WVW54rc"
      }
    },
    {
      "cell_type": "code",
      "source": [
        "%%sql PRAGMA TABLE_INFO(village_locations);"
      ],
      "metadata": {
        "colab": {
          "base_uri": "https://localhost:8080/",
          "height": 182
        },
        "id": "GkbyIOv828L0",
        "outputId": "f3fd44ea-e6d9-4c32-be80-e7c0d2d8ec9c"
      },
      "execution_count": 14,
      "outputs": [
        {
          "output_type": "stream",
          "name": "stdout",
          "text": [
            " * sqlite:///Somalia_db;\n",
            "Done.\n"
          ]
        },
        {
          "output_type": "execute_result",
          "data": {
            "text/plain": [
              "[(0, 'village_id', 'INT', 1, None, 1),\n",
              " (1, 'village', 'VARCHAR(30)', 1, None, 0),\n",
              " (2, 'latitude', 'VARHAR(30)', 0, None, 0),\n",
              " (3, 'longitude', 'VARCHAR(30)', 0, None, 0),\n",
              " (4, 'total_population', 'INT', 0, None, 0)]"
            ],
            "text/html": [
              "<table>\n",
              "    <thead>\n",
              "        <tr>\n",
              "            <th>cid</th>\n",
              "            <th>name</th>\n",
              "            <th>type</th>\n",
              "            <th>notnull</th>\n",
              "            <th>dflt_value</th>\n",
              "            <th>pk</th>\n",
              "        </tr>\n",
              "    </thead>\n",
              "    <tbody>\n",
              "        <tr>\n",
              "            <td>0</td>\n",
              "            <td>village_id</td>\n",
              "            <td>INT</td>\n",
              "            <td>1</td>\n",
              "            <td>None</td>\n",
              "            <td>1</td>\n",
              "        </tr>\n",
              "        <tr>\n",
              "            <td>1</td>\n",
              "            <td>village</td>\n",
              "            <td>VARCHAR(30)</td>\n",
              "            <td>1</td>\n",
              "            <td>None</td>\n",
              "            <td>0</td>\n",
              "        </tr>\n",
              "        <tr>\n",
              "            <td>2</td>\n",
              "            <td>latitude</td>\n",
              "            <td>VARHAR(30)</td>\n",
              "            <td>0</td>\n",
              "            <td>None</td>\n",
              "            <td>0</td>\n",
              "        </tr>\n",
              "        <tr>\n",
              "            <td>3</td>\n",
              "            <td>longitude</td>\n",
              "            <td>VARCHAR(30)</td>\n",
              "            <td>0</td>\n",
              "            <td>None</td>\n",
              "            <td>0</td>\n",
              "        </tr>\n",
              "        <tr>\n",
              "            <td>4</td>\n",
              "            <td>total_population</td>\n",
              "            <td>INT</td>\n",
              "            <td>0</td>\n",
              "            <td>None</td>\n",
              "            <td>0</td>\n",
              "        </tr>\n",
              "    </tbody>\n",
              "</table>"
            ]
          },
          "metadata": {},
          "execution_count": 14
        }
      ]
    },
    {
      "cell_type": "code",
      "source": [
        "%%sql PRAGMA TABLE_INFO(jurisdition_hierarchy);"
      ],
      "metadata": {
        "colab": {
          "base_uri": "https://localhost:8080/",
          "height": 161
        },
        "id": "NRTecJcw3TAR",
        "outputId": "4978c4d2-a9f9-4356-e504-5ea3677e1520"
      },
      "execution_count": 15,
      "outputs": [
        {
          "output_type": "stream",
          "name": "stdout",
          "text": [
            " * sqlite:///Somalia_db;\n",
            "Done.\n"
          ]
        },
        {
          "output_type": "execute_result",
          "data": {
            "text/plain": [
              "[(0, 'jurisdition_id', 'INT', 1, None, 1),\n",
              " (1, 'village', 'VARCHAR(30)', 0, None, 0),\n",
              " (2, 'location', 'VARCHAR(30)', 0, None, 0),\n",
              " (3, 'name', 'VARCHAR(30)', 0, None, 0)]"
            ],
            "text/html": [
              "<table>\n",
              "    <thead>\n",
              "        <tr>\n",
              "            <th>cid</th>\n",
              "            <th>name</th>\n",
              "            <th>type</th>\n",
              "            <th>notnull</th>\n",
              "            <th>dflt_value</th>\n",
              "            <th>pk</th>\n",
              "        </tr>\n",
              "    </thead>\n",
              "    <tbody>\n",
              "        <tr>\n",
              "            <td>0</td>\n",
              "            <td>jurisdition_id</td>\n",
              "            <td>INT</td>\n",
              "            <td>1</td>\n",
              "            <td>None</td>\n",
              "            <td>1</td>\n",
              "        </tr>\n",
              "        <tr>\n",
              "            <td>1</td>\n",
              "            <td>village</td>\n",
              "            <td>VARCHAR(30)</td>\n",
              "            <td>0</td>\n",
              "            <td>None</td>\n",
              "            <td>0</td>\n",
              "        </tr>\n",
              "        <tr>\n",
              "            <td>2</td>\n",
              "            <td>location</td>\n",
              "            <td>VARCHAR(30)</td>\n",
              "            <td>0</td>\n",
              "            <td>None</td>\n",
              "            <td>0</td>\n",
              "        </tr>\n",
              "        <tr>\n",
              "            <td>3</td>\n",
              "            <td>name</td>\n",
              "            <td>VARCHAR(30)</td>\n",
              "            <td>0</td>\n",
              "            <td>None</td>\n",
              "            <td>0</td>\n",
              "        </tr>\n",
              "    </tbody>\n",
              "</table>"
            ]
          },
          "metadata": {},
          "execution_count": 15
        }
      ]
    },
    {
      "cell_type": "code",
      "source": [
        "%%sql PRAGMA TABLE_INFO(beneficiary_partner_data);"
      ],
      "metadata": {
        "colab": {
          "base_uri": "https://localhost:8080/",
          "height": 182
        },
        "id": "llwpFYHo3dgi",
        "outputId": "3bbbc925-5e51-4b74-907a-bd120f3ac17a"
      },
      "execution_count": 16,
      "outputs": [
        {
          "output_type": "stream",
          "name": "stdout",
          "text": [
            " * sqlite:///Somalia_db;\n",
            "Done.\n"
          ]
        },
        {
          "output_type": "execute_result",
          "data": {
            "text/plain": [
              "[(0, 'partner_id', 'INT', 1, None, 1),\n",
              " (1, 'partner', 'VARCHAR(30)', 1, None, 0),\n",
              " (2, 'village', 'VARCHAR(30)', 1, None, 0),\n",
              " (3, 'beneficiaries', 'INT', 0, None, 0),\n",
              " (4, 'beneficiary_type', 'VARCHAR(30)', 0, None, 0)]"
            ],
            "text/html": [
              "<table>\n",
              "    <thead>\n",
              "        <tr>\n",
              "            <th>cid</th>\n",
              "            <th>name</th>\n",
              "            <th>type</th>\n",
              "            <th>notnull</th>\n",
              "            <th>dflt_value</th>\n",
              "            <th>pk</th>\n",
              "        </tr>\n",
              "    </thead>\n",
              "    <tbody>\n",
              "        <tr>\n",
              "            <td>0</td>\n",
              "            <td>partner_id</td>\n",
              "            <td>INT</td>\n",
              "            <td>1</td>\n",
              "            <td>None</td>\n",
              "            <td>1</td>\n",
              "        </tr>\n",
              "        <tr>\n",
              "            <td>1</td>\n",
              "            <td>partner</td>\n",
              "            <td>VARCHAR(30)</td>\n",
              "            <td>1</td>\n",
              "            <td>None</td>\n",
              "            <td>0</td>\n",
              "        </tr>\n",
              "        <tr>\n",
              "            <td>2</td>\n",
              "            <td>village</td>\n",
              "            <td>VARCHAR(30)</td>\n",
              "            <td>1</td>\n",
              "            <td>None</td>\n",
              "            <td>0</td>\n",
              "        </tr>\n",
              "        <tr>\n",
              "            <td>3</td>\n",
              "            <td>beneficiaries</td>\n",
              "            <td>INT</td>\n",
              "            <td>0</td>\n",
              "            <td>None</td>\n",
              "            <td>0</td>\n",
              "        </tr>\n",
              "        <tr>\n",
              "            <td>4</td>\n",
              "            <td>beneficiary_type</td>\n",
              "            <td>VARCHAR(30)</td>\n",
              "            <td>0</td>\n",
              "            <td>None</td>\n",
              "            <td>0</td>\n",
              "        </tr>\n",
              "    </tbody>\n",
              "</table>"
            ]
          },
          "metadata": {},
          "execution_count": 16
        }
      ]
    },
    {
      "cell_type": "markdown",
      "source": [
        "Diplaying the content of the tables"
      ],
      "metadata": {
        "id": "gBAs2MRU6ErW"
      }
    },
    {
      "cell_type": "code",
      "source": [
        "%%sql SELECT *\n",
        "FROM beneficiary_partner_data;"
      ],
      "metadata": {
        "colab": {
          "base_uri": "https://localhost:8080/",
          "height": 858
        },
        "id": "MzDEh5Aq3qB2",
        "outputId": "7d3642a9-e5fb-4ac9-bd80-f1b8f4195bb8"
      },
      "execution_count": 17,
      "outputs": [
        {
          "output_type": "stream",
          "name": "stdout",
          "text": [
            " * sqlite:///Somalia_db;\n",
            "Done.\n"
          ]
        },
        {
          "output_type": "execute_result",
          "data": {
            "text/plain": [
              "[(1, 'IRC', 'Balcad', 1450, 'Individuals'),\n",
              " (2, 'NRC', 'Balad', 50, 'Households'),\n",
              " (3, 'SCI', 'Balcad', 1123, 'Individuals'),\n",
              " (4, 'IMC', 'Balcad', 1245, 'Individuals'),\n",
              " (5, 'SCI', 'Mareeray', 5200, 'Individuals'),\n",
              " (6, 'IMC', 'Mareeray', 70, 'Households'),\n",
              " (7, 'IRC', 'Mareeray', 2100, 'Individuals'),\n",
              " (8, 'CESVI', 'Mareeray', 1800, 'Individuals'),\n",
              " (9, 'SCI', 'Kulmis', 1340, 'Individuals'),\n",
              " (10, 'IMC', 'Kulmis', 55, 'Household'),\n",
              " (11, 'SCI', 'Kulmis', 4500, 'Individuals'),\n",
              " (12, 'IMC', 'Kulmis', 1670, 'Individuals'),\n",
              " (13, 'IMC', 'Sabuum', 1340, 'Individuals'),\n",
              " (14, 'IRC', 'Sabuun', 66, 'Households'),\n",
              " (15, 'CESVI', 'Sabuun', 4090, 'Individuals'),\n",
              " (16, 'SCI', 'Sabuun', 2930, 'Individuals'),\n",
              " (17, 'IMC', 'Bayaxaw', 2800, 'Individuals'),\n",
              " (18, 'IRC', 'Bayaxaw', 2100, 'Individuals'),\n",
              " (19, 'CESVI', 'Bayaxaw', 45, 'Households'),\n",
              " (20, 'SCI', 'Bayaxaw', 1700, 'Individuals'),\n",
              " (21, 'SCI', 'Bayaxawo', 5900, 'Individuals'),\n",
              " (22, 'IMC', 'Bayaxawo', 40, 'Households'),\n",
              " (23, 'IRC', 'Bayaxawo', 1500, 'Individuals'),\n",
              " (24, 'CESVI', 'Bayaxawo', 1260, 'Individuals'),\n",
              " (25, 'CEVI', 'Dharkenley', 7880, 'Individuals'),\n",
              " (26, 'IRC', 'Dharkenley', 34, 'Households'),\n",
              " (27, 'SCI', 'Bulo-kahin', 4300, 'Individuals'),\n",
              " (28, 'IMC', 'Bulo-kahin', 4212, 'Individuals'),\n",
              " (29, 'IRC', 'Bulo-kihin', 3200, 'Individuals'),\n",
              " (30, 'IRC', 'Hilo Kelyo', 5212, 'Individuals'),\n",
              " (31, 'SCI', 'Hilo Keylo', 25, 'Households'),\n",
              " (33, 'IMC', 'Xiintooy', 1667, 'Individuals'),\n",
              " (34, 'IRC', 'Xiintooy', 2667, 'Individuals'),\n",
              " (35, 'CESVI', 'Dhagax Jebis', 2856, 'Individuals'),\n",
              " (36, 'CESVI', 'Filtare', 7519, 'Individuals'),\n",
              " (37, 'CESVI', 'Howl-Wadaag', 6870, 'Individuals'),\n",
              " (38, 'IMC', 'Howl-Wadaag', 32, 'Households')]"
            ],
            "text/html": [
              "<table>\n",
              "    <thead>\n",
              "        <tr>\n",
              "            <th>partner_id</th>\n",
              "            <th>partner</th>\n",
              "            <th>village</th>\n",
              "            <th>beneficiaries</th>\n",
              "            <th>beneficiary_type</th>\n",
              "        </tr>\n",
              "    </thead>\n",
              "    <tbody>\n",
              "        <tr>\n",
              "            <td>1</td>\n",
              "            <td>IRC</td>\n",
              "            <td>Balcad</td>\n",
              "            <td>1450</td>\n",
              "            <td>Individuals</td>\n",
              "        </tr>\n",
              "        <tr>\n",
              "            <td>2</td>\n",
              "            <td>NRC</td>\n",
              "            <td>Balad</td>\n",
              "            <td>50</td>\n",
              "            <td>Households</td>\n",
              "        </tr>\n",
              "        <tr>\n",
              "            <td>3</td>\n",
              "            <td>SCI</td>\n",
              "            <td>Balcad</td>\n",
              "            <td>1123</td>\n",
              "            <td>Individuals</td>\n",
              "        </tr>\n",
              "        <tr>\n",
              "            <td>4</td>\n",
              "            <td>IMC</td>\n",
              "            <td>Balcad</td>\n",
              "            <td>1245</td>\n",
              "            <td>Individuals</td>\n",
              "        </tr>\n",
              "        <tr>\n",
              "            <td>5</td>\n",
              "            <td>SCI</td>\n",
              "            <td>Mareeray</td>\n",
              "            <td>5200</td>\n",
              "            <td>Individuals</td>\n",
              "        </tr>\n",
              "        <tr>\n",
              "            <td>6</td>\n",
              "            <td>IMC</td>\n",
              "            <td>Mareeray</td>\n",
              "            <td>70</td>\n",
              "            <td>Households</td>\n",
              "        </tr>\n",
              "        <tr>\n",
              "            <td>7</td>\n",
              "            <td>IRC</td>\n",
              "            <td>Mareeray</td>\n",
              "            <td>2100</td>\n",
              "            <td>Individuals</td>\n",
              "        </tr>\n",
              "        <tr>\n",
              "            <td>8</td>\n",
              "            <td>CESVI</td>\n",
              "            <td>Mareeray</td>\n",
              "            <td>1800</td>\n",
              "            <td>Individuals</td>\n",
              "        </tr>\n",
              "        <tr>\n",
              "            <td>9</td>\n",
              "            <td>SCI</td>\n",
              "            <td>Kulmis</td>\n",
              "            <td>1340</td>\n",
              "            <td>Individuals</td>\n",
              "        </tr>\n",
              "        <tr>\n",
              "            <td>10</td>\n",
              "            <td>IMC</td>\n",
              "            <td>Kulmis</td>\n",
              "            <td>55</td>\n",
              "            <td>Household</td>\n",
              "        </tr>\n",
              "        <tr>\n",
              "            <td>11</td>\n",
              "            <td>SCI</td>\n",
              "            <td>Kulmis</td>\n",
              "            <td>4500</td>\n",
              "            <td>Individuals</td>\n",
              "        </tr>\n",
              "        <tr>\n",
              "            <td>12</td>\n",
              "            <td>IMC</td>\n",
              "            <td>Kulmis</td>\n",
              "            <td>1670</td>\n",
              "            <td>Individuals</td>\n",
              "        </tr>\n",
              "        <tr>\n",
              "            <td>13</td>\n",
              "            <td>IMC</td>\n",
              "            <td>Sabuum</td>\n",
              "            <td>1340</td>\n",
              "            <td>Individuals</td>\n",
              "        </tr>\n",
              "        <tr>\n",
              "            <td>14</td>\n",
              "            <td>IRC</td>\n",
              "            <td>Sabuun</td>\n",
              "            <td>66</td>\n",
              "            <td>Households</td>\n",
              "        </tr>\n",
              "        <tr>\n",
              "            <td>15</td>\n",
              "            <td>CESVI</td>\n",
              "            <td>Sabuun</td>\n",
              "            <td>4090</td>\n",
              "            <td>Individuals</td>\n",
              "        </tr>\n",
              "        <tr>\n",
              "            <td>16</td>\n",
              "            <td>SCI</td>\n",
              "            <td>Sabuun</td>\n",
              "            <td>2930</td>\n",
              "            <td>Individuals</td>\n",
              "        </tr>\n",
              "        <tr>\n",
              "            <td>17</td>\n",
              "            <td>IMC</td>\n",
              "            <td>Bayaxaw</td>\n",
              "            <td>2800</td>\n",
              "            <td>Individuals</td>\n",
              "        </tr>\n",
              "        <tr>\n",
              "            <td>18</td>\n",
              "            <td>IRC</td>\n",
              "            <td>Bayaxaw</td>\n",
              "            <td>2100</td>\n",
              "            <td>Individuals</td>\n",
              "        </tr>\n",
              "        <tr>\n",
              "            <td>19</td>\n",
              "            <td>CESVI</td>\n",
              "            <td>Bayaxaw</td>\n",
              "            <td>45</td>\n",
              "            <td>Households</td>\n",
              "        </tr>\n",
              "        <tr>\n",
              "            <td>20</td>\n",
              "            <td>SCI</td>\n",
              "            <td>Bayaxaw</td>\n",
              "            <td>1700</td>\n",
              "            <td>Individuals</td>\n",
              "        </tr>\n",
              "        <tr>\n",
              "            <td>21</td>\n",
              "            <td>SCI</td>\n",
              "            <td>Bayaxawo</td>\n",
              "            <td>5900</td>\n",
              "            <td>Individuals</td>\n",
              "        </tr>\n",
              "        <tr>\n",
              "            <td>22</td>\n",
              "            <td>IMC</td>\n",
              "            <td>Bayaxawo</td>\n",
              "            <td>40</td>\n",
              "            <td>Households</td>\n",
              "        </tr>\n",
              "        <tr>\n",
              "            <td>23</td>\n",
              "            <td>IRC</td>\n",
              "            <td>Bayaxawo</td>\n",
              "            <td>1500</td>\n",
              "            <td>Individuals</td>\n",
              "        </tr>\n",
              "        <tr>\n",
              "            <td>24</td>\n",
              "            <td>CESVI</td>\n",
              "            <td>Bayaxawo</td>\n",
              "            <td>1260</td>\n",
              "            <td>Individuals</td>\n",
              "        </tr>\n",
              "        <tr>\n",
              "            <td>25</td>\n",
              "            <td>CEVI</td>\n",
              "            <td>Dharkenley</td>\n",
              "            <td>7880</td>\n",
              "            <td>Individuals</td>\n",
              "        </tr>\n",
              "        <tr>\n",
              "            <td>26</td>\n",
              "            <td>IRC</td>\n",
              "            <td>Dharkenley</td>\n",
              "            <td>34</td>\n",
              "            <td>Households</td>\n",
              "        </tr>\n",
              "        <tr>\n",
              "            <td>27</td>\n",
              "            <td>SCI</td>\n",
              "            <td>Bulo-kahin</td>\n",
              "            <td>4300</td>\n",
              "            <td>Individuals</td>\n",
              "        </tr>\n",
              "        <tr>\n",
              "            <td>28</td>\n",
              "            <td>IMC</td>\n",
              "            <td>Bulo-kahin</td>\n",
              "            <td>4212</td>\n",
              "            <td>Individuals</td>\n",
              "        </tr>\n",
              "        <tr>\n",
              "            <td>29</td>\n",
              "            <td>IRC</td>\n",
              "            <td>Bulo-kihin</td>\n",
              "            <td>3200</td>\n",
              "            <td>Individuals</td>\n",
              "        </tr>\n",
              "        <tr>\n",
              "            <td>30</td>\n",
              "            <td>IRC</td>\n",
              "            <td>Hilo Kelyo</td>\n",
              "            <td>5212</td>\n",
              "            <td>Individuals</td>\n",
              "        </tr>\n",
              "        <tr>\n",
              "            <td>31</td>\n",
              "            <td>SCI</td>\n",
              "            <td>Hilo Keylo</td>\n",
              "            <td>25</td>\n",
              "            <td>Households</td>\n",
              "        </tr>\n",
              "        <tr>\n",
              "            <td>33</td>\n",
              "            <td>IMC</td>\n",
              "            <td>Xiintooy</td>\n",
              "            <td>1667</td>\n",
              "            <td>Individuals</td>\n",
              "        </tr>\n",
              "        <tr>\n",
              "            <td>34</td>\n",
              "            <td>IRC</td>\n",
              "            <td>Xiintooy</td>\n",
              "            <td>2667</td>\n",
              "            <td>Individuals</td>\n",
              "        </tr>\n",
              "        <tr>\n",
              "            <td>35</td>\n",
              "            <td>CESVI</td>\n",
              "            <td>Dhagax Jebis</td>\n",
              "            <td>2856</td>\n",
              "            <td>Individuals</td>\n",
              "        </tr>\n",
              "        <tr>\n",
              "            <td>36</td>\n",
              "            <td>CESVI</td>\n",
              "            <td>Filtare</td>\n",
              "            <td>7519</td>\n",
              "            <td>Individuals</td>\n",
              "        </tr>\n",
              "        <tr>\n",
              "            <td>37</td>\n",
              "            <td>CESVI</td>\n",
              "            <td>Howl-Wadaag</td>\n",
              "            <td>6870</td>\n",
              "            <td>Individuals</td>\n",
              "        </tr>\n",
              "        <tr>\n",
              "            <td>38</td>\n",
              "            <td>IMC</td>\n",
              "            <td>Howl-Wadaag</td>\n",
              "            <td>32</td>\n",
              "            <td>Households</td>\n",
              "        </tr>\n",
              "    </tbody>\n",
              "</table>"
            ]
          },
          "metadata": {},
          "execution_count": 17
        }
      ]
    },
    {
      "cell_type": "code",
      "source": [
        "%%sql SELECT *\n",
        "FROM jurisdition_hierarchy;"
      ],
      "metadata": {
        "colab": {
          "base_uri": "https://localhost:8080/",
          "height": 457
        },
        "id": "ZxCffS2X32az",
        "outputId": "6a01ae0e-f56d-4d2b-b853-8206fc86b336"
      },
      "execution_count": 18,
      "outputs": [
        {
          "output_type": "stream",
          "name": "stdout",
          "text": [
            " * sqlite:///Somalia_db;\n",
            "Done.\n"
          ]
        },
        {
          "output_type": "execute_result",
          "data": {
            "text/plain": [
              "[(1, 'Middle Shabelle', 'Region', 'NULL'),\n",
              " (2, 'Hiraan', 'Region', 'NULL'),\n",
              " (3, 'Balcad', 'District', 'Middle Shabelle'),\n",
              " (4, 'Jowhar', 'District', 'Middle Shabelle'),\n",
              " (5, 'Beledweyn', 'District', 'Hiraan'),\n",
              " (6, 'Dharkenley', 'Village', 'Beledweyn'),\n",
              " (7, 'Bulo-Kahin', 'Village', 'Beledweyn'),\n",
              " (8, 'Hilo Kelyo', 'Village', 'Beledweyn'),\n",
              " (9, 'Xubow', 'Village', 'Beledweyn'),\n",
              " (10, 'Xiintooy', 'Village', 'Beledweyn'),\n",
              " (11, 'Dhagax Jebis', 'Village', 'Beledweyn'),\n",
              " (12, 'Filtare', 'Village', 'Beledweyn'),\n",
              " (13, 'Howl-Wadaag', 'Village', 'Beledweyn'),\n",
              " (14, 'Balcad', 'Village', 'Balcad'),\n",
              " (15, 'Mareeray', 'Village', 'Balcad'),\n",
              " (16, 'Kulmis', 'Village', 'Balcad'),\n",
              " (17, 'Sabuun', 'Village', 'Jowhar'),\n",
              " (18, 'Bayaxaw', 'Village', 'Jowhar')]"
            ],
            "text/html": [
              "<table>\n",
              "    <thead>\n",
              "        <tr>\n",
              "            <th>jurisdition_id</th>\n",
              "            <th>village</th>\n",
              "            <th>location</th>\n",
              "            <th>name</th>\n",
              "        </tr>\n",
              "    </thead>\n",
              "    <tbody>\n",
              "        <tr>\n",
              "            <td>1</td>\n",
              "            <td>Middle Shabelle</td>\n",
              "            <td>Region</td>\n",
              "            <td>NULL</td>\n",
              "        </tr>\n",
              "        <tr>\n",
              "            <td>2</td>\n",
              "            <td>Hiraan</td>\n",
              "            <td>Region</td>\n",
              "            <td>NULL</td>\n",
              "        </tr>\n",
              "        <tr>\n",
              "            <td>3</td>\n",
              "            <td>Balcad</td>\n",
              "            <td>District</td>\n",
              "            <td>Middle Shabelle</td>\n",
              "        </tr>\n",
              "        <tr>\n",
              "            <td>4</td>\n",
              "            <td>Jowhar</td>\n",
              "            <td>District</td>\n",
              "            <td>Middle Shabelle</td>\n",
              "        </tr>\n",
              "        <tr>\n",
              "            <td>5</td>\n",
              "            <td>Beledweyn</td>\n",
              "            <td>District</td>\n",
              "            <td>Hiraan</td>\n",
              "        </tr>\n",
              "        <tr>\n",
              "            <td>6</td>\n",
              "            <td>Dharkenley</td>\n",
              "            <td>Village</td>\n",
              "            <td>Beledweyn</td>\n",
              "        </tr>\n",
              "        <tr>\n",
              "            <td>7</td>\n",
              "            <td>Bulo-Kahin</td>\n",
              "            <td>Village</td>\n",
              "            <td>Beledweyn</td>\n",
              "        </tr>\n",
              "        <tr>\n",
              "            <td>8</td>\n",
              "            <td>Hilo Kelyo</td>\n",
              "            <td>Village</td>\n",
              "            <td>Beledweyn</td>\n",
              "        </tr>\n",
              "        <tr>\n",
              "            <td>9</td>\n",
              "            <td>Xubow</td>\n",
              "            <td>Village</td>\n",
              "            <td>Beledweyn</td>\n",
              "        </tr>\n",
              "        <tr>\n",
              "            <td>10</td>\n",
              "            <td>Xiintooy</td>\n",
              "            <td>Village</td>\n",
              "            <td>Beledweyn</td>\n",
              "        </tr>\n",
              "        <tr>\n",
              "            <td>11</td>\n",
              "            <td>Dhagax Jebis</td>\n",
              "            <td>Village</td>\n",
              "            <td>Beledweyn</td>\n",
              "        </tr>\n",
              "        <tr>\n",
              "            <td>12</td>\n",
              "            <td>Filtare</td>\n",
              "            <td>Village</td>\n",
              "            <td>Beledweyn</td>\n",
              "        </tr>\n",
              "        <tr>\n",
              "            <td>13</td>\n",
              "            <td>Howl-Wadaag</td>\n",
              "            <td>Village</td>\n",
              "            <td>Beledweyn</td>\n",
              "        </tr>\n",
              "        <tr>\n",
              "            <td>14</td>\n",
              "            <td>Balcad</td>\n",
              "            <td>Village</td>\n",
              "            <td>Balcad</td>\n",
              "        </tr>\n",
              "        <tr>\n",
              "            <td>15</td>\n",
              "            <td>Mareeray</td>\n",
              "            <td>Village</td>\n",
              "            <td>Balcad</td>\n",
              "        </tr>\n",
              "        <tr>\n",
              "            <td>16</td>\n",
              "            <td>Kulmis</td>\n",
              "            <td>Village</td>\n",
              "            <td>Balcad</td>\n",
              "        </tr>\n",
              "        <tr>\n",
              "            <td>17</td>\n",
              "            <td>Sabuun</td>\n",
              "            <td>Village</td>\n",
              "            <td>Jowhar</td>\n",
              "        </tr>\n",
              "        <tr>\n",
              "            <td>18</td>\n",
              "            <td>Bayaxaw</td>\n",
              "            <td>Village</td>\n",
              "            <td>Jowhar</td>\n",
              "        </tr>\n",
              "    </tbody>\n",
              "</table>"
            ]
          },
          "metadata": {},
          "execution_count": 18
        }
      ]
    },
    {
      "cell_type": "code",
      "source": [
        "%%sql SELECT *\n",
        "FROM village_locations;"
      ],
      "metadata": {
        "colab": {
          "base_uri": "https://localhost:8080/",
          "height": 372
        },
        "id": "-8hVsr5f4BZA",
        "outputId": "b9bbed7e-38ba-429e-a9f4-954ca168c7f0"
      },
      "execution_count": 19,
      "outputs": [
        {
          "output_type": "stream",
          "name": "stdout",
          "text": [
            " * sqlite:///Somalia_db;\n",
            "Done.\n"
          ]
        },
        {
          "output_type": "execute_result",
          "data": {
            "text/plain": [
              "[(1, 'Dharkenley', '4°47\\'35.40\"', '45°12\\'28.80\"', 12800),\n",
              " (2, 'Bulo-Kahin', '4°47\\'57.00\"', '45°11\\'5.70\"', 9485),\n",
              " (3, 'Hilo Kelyo', '4°47\\'57.00\"', '45°12\\'58.60\"', 5212),\n",
              " (4, 'Xubow', '4°46\\'46.77\"', '45°12\\'7.57\"', 2558),\n",
              " (5, 'Xiintooy', '4°44\\'14.40\"', '45°13\\'5.00\"', 3850),\n",
              " (6, 'Dhagax Jebis', '4°44\\'27.86\"', '45°12\\'42.03\"', 3563),\n",
              " (7, 'Filtare', '4°44\\'20.43\"', '45°12\\'27.89\"', 8000),\n",
              " (8, 'Howl-Wadaag', '4°43\\'50.00\"', '45°11\\'58.20\"', 7525),\n",
              " (9, 'Balcad', \"2°21.624'\", \"45°23.928'\", 1500),\n",
              " (10, 'Mareeray', \"2°23.504'\", \"45°25.200'\", 7500),\n",
              " (11, 'Kulmis', \"2°36.761'\", \"45°30.642'\", 6058),\n",
              " (12, 'Sabuun', \"2°53.020'\", \"45°32.356'\", 5483),\n",
              " (13, 'Bayaxaw', \"2°44.768'\", \"45°29.727'\", 3000),\n",
              " (14, 'Bayaxawo', \"2°44.768'\", \"45°29.926'\", 7560)]"
            ],
            "text/html": [
              "<table>\n",
              "    <thead>\n",
              "        <tr>\n",
              "            <th>village_id</th>\n",
              "            <th>village</th>\n",
              "            <th>latitude</th>\n",
              "            <th>longitude</th>\n",
              "            <th>total_population</th>\n",
              "        </tr>\n",
              "    </thead>\n",
              "    <tbody>\n",
              "        <tr>\n",
              "            <td>1</td>\n",
              "            <td>Dharkenley</td>\n",
              "            <td>4°47&#x27;35.40&quot;</td>\n",
              "            <td>45°12&#x27;28.80&quot;</td>\n",
              "            <td>12800</td>\n",
              "        </tr>\n",
              "        <tr>\n",
              "            <td>2</td>\n",
              "            <td>Bulo-Kahin</td>\n",
              "            <td>4°47&#x27;57.00&quot;</td>\n",
              "            <td>45°11&#x27;5.70&quot;</td>\n",
              "            <td>9485</td>\n",
              "        </tr>\n",
              "        <tr>\n",
              "            <td>3</td>\n",
              "            <td>Hilo Kelyo</td>\n",
              "            <td>4°47&#x27;57.00&quot;</td>\n",
              "            <td>45°12&#x27;58.60&quot;</td>\n",
              "            <td>5212</td>\n",
              "        </tr>\n",
              "        <tr>\n",
              "            <td>4</td>\n",
              "            <td>Xubow</td>\n",
              "            <td>4°46&#x27;46.77&quot;</td>\n",
              "            <td>45°12&#x27;7.57&quot;</td>\n",
              "            <td>2558</td>\n",
              "        </tr>\n",
              "        <tr>\n",
              "            <td>5</td>\n",
              "            <td>Xiintooy</td>\n",
              "            <td>4°44&#x27;14.40&quot;</td>\n",
              "            <td>45°13&#x27;5.00&quot;</td>\n",
              "            <td>3850</td>\n",
              "        </tr>\n",
              "        <tr>\n",
              "            <td>6</td>\n",
              "            <td>Dhagax Jebis</td>\n",
              "            <td>4°44&#x27;27.86&quot;</td>\n",
              "            <td>45°12&#x27;42.03&quot;</td>\n",
              "            <td>3563</td>\n",
              "        </tr>\n",
              "        <tr>\n",
              "            <td>7</td>\n",
              "            <td>Filtare</td>\n",
              "            <td>4°44&#x27;20.43&quot;</td>\n",
              "            <td>45°12&#x27;27.89&quot;</td>\n",
              "            <td>8000</td>\n",
              "        </tr>\n",
              "        <tr>\n",
              "            <td>8</td>\n",
              "            <td>Howl-Wadaag</td>\n",
              "            <td>4°43&#x27;50.00&quot;</td>\n",
              "            <td>45°11&#x27;58.20&quot;</td>\n",
              "            <td>7525</td>\n",
              "        </tr>\n",
              "        <tr>\n",
              "            <td>9</td>\n",
              "            <td>Balcad</td>\n",
              "            <td>2°21.624&#x27;</td>\n",
              "            <td>45°23.928&#x27;</td>\n",
              "            <td>1500</td>\n",
              "        </tr>\n",
              "        <tr>\n",
              "            <td>10</td>\n",
              "            <td>Mareeray</td>\n",
              "            <td>2°23.504&#x27;</td>\n",
              "            <td>45°25.200&#x27;</td>\n",
              "            <td>7500</td>\n",
              "        </tr>\n",
              "        <tr>\n",
              "            <td>11</td>\n",
              "            <td>Kulmis</td>\n",
              "            <td>2°36.761&#x27;</td>\n",
              "            <td>45°30.642&#x27;</td>\n",
              "            <td>6058</td>\n",
              "        </tr>\n",
              "        <tr>\n",
              "            <td>12</td>\n",
              "            <td>Sabuun</td>\n",
              "            <td>2°53.020&#x27;</td>\n",
              "            <td>45°32.356&#x27;</td>\n",
              "            <td>5483</td>\n",
              "        </tr>\n",
              "        <tr>\n",
              "            <td>13</td>\n",
              "            <td>Bayaxaw</td>\n",
              "            <td>2°44.768&#x27;</td>\n",
              "            <td>45°29.727&#x27;</td>\n",
              "            <td>3000</td>\n",
              "        </tr>\n",
              "        <tr>\n",
              "            <td>14</td>\n",
              "            <td>Bayaxawo</td>\n",
              "            <td>2°44.768&#x27;</td>\n",
              "            <td>45°29.926&#x27;</td>\n",
              "            <td>7560</td>\n",
              "        </tr>\n",
              "    </tbody>\n",
              "</table>"
            ]
          },
          "metadata": {},
          "execution_count": 19
        }
      ]
    }
  ]
}